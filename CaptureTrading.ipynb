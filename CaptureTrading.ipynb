{
 "cells": [
  {
   "cell_type": "code",
   "execution_count": 1,
   "metadata": {
    "scrolled": true
   },
   "outputs": [],
   "source": [
    "from selenium import webdriver     \n",
    "import requests \n",
    "from selenium.webdriver.common.keys import Keys  \n",
    "from selenium.webdriver.support.select import Select\n",
    "import time     \n",
    "from bs4 import BeautifulSoup\n",
    "import lxml\n",
    "from PIL import Image\n",
    "import urllib\n",
    "import numpy as np\n",
    "sleep_time=np.random.randint(1,2)"
   ]
  },
  {
   "cell_type": "markdown",
   "metadata": {},
   "source": [
    "# Searching Reliance "
   ]
  },
  {
   "cell_type": "code",
   "execution_count": 37,
   "metadata": {},
   "outputs": [],
   "source": [
    "def search_name(browser,sleep_time,name='RELIANCE'):\n",
    "    time.sleep(sleep_time)\n",
    "    search=browser.find_element_by_class_name('input-3lfOzLDc').click()\n",
    "    search=browser.find_element_by_class_name('search-1t76YXcC')\n",
    "    search.send_keys(Keys.CONTROL + \"a\")\n",
    "    search.send_keys(name) \n",
    "    search.send_keys(Keys.ENTER)\n",
    "    time.sleep(sleep_time)"
   ]
  },
  {
   "cell_type": "markdown",
   "metadata": {},
   "source": [
    "# Taking hourly record "
   ]
  },
  {
   "cell_type": "code",
   "execution_count": 38,
   "metadata": {
    "scrolled": false
   },
   "outputs": [],
   "source": [
    "def period(browser,t='hour'):\n",
    "    timet={'minute':8,'hour':16,'day':22,'week':23,'month':24}\n",
    "    time.sleep(sleep_time)\n",
    "    browser.find_element_by_xpath('//*[@id=\"header-toolbar-intervals\"]').click()\n",
    "    time.sleep(sleep_time)\n",
    "    browser.find_element_by_xpath('//*[@id=\"overlap-manager-root\"]/div/span/div[1]/div/div/div/div[{}]/div/div[1]/div'.format(timet[t])).click()"
   ]
  },
  {
   "cell_type": "markdown",
   "metadata": {},
   "source": [
    "# save image "
   ]
  },
  {
   "cell_type": "code",
   "execution_count": 39,
   "metadata": {},
   "outputs": [],
   "source": [
    "def save_image(browser):\n",
    "    time.sleep(sleep_time)\n",
    "    browser.find_element_by_class_name(\"icon-beK_KS0k\").click()\n",
    "    time.sleep(sleep_time)\n",
    "    browser.find_element_by_xpath('//*[@id=\"header-toolbar-screenshot\"]').click()\n",
    "    time.sleep(sleep_time)\n",
    "    browser.find_element_by_xpath('//*[@id=\"header-toolbar-screenshot\"]/span').click()\n",
    "    time.sleep(sleep_time)\n",
    "    link=browser.find_element_by_xpath('//*[@id=\"overlap-manager-root\"]/div/div/div[2]/div/div/div[1]/div[2]/div/div/div[2]/a')\n",
    "    time.sleep(sleep_time)\n",
    "    link.click()\n",
    "    browser.switch_to.window(browser.window_handles[1])\n",
    "    url=browser.current_url\n",
    "    print(\"image_url : \",url)\n",
    "    image=Image.open(urllib.request.urlopen(url))\n",
    "    image = Image.fromarray(np.array(image))\n",
    "    try:\n",
    "        image.save('images/record{}.png'.format(len(os.listdir('images'))+1))\n",
    "    except:\n",
    "        os.makedirs('images')\n",
    "        image.save('images/record{}.png'.format(len(os.listdir('images'))+1))\n",
    "    return url\n",
    "        "
   ]
  },
  {
   "cell_type": "code",
   "execution_count": 40,
   "metadata": {},
   "outputs": [
    {
     "name": "stdout",
     "output_type": "stream",
     "text": [
      "image_url :  https://www.tradingview.com/x/IDmA1B3E/\n"
     ]
    },
    {
     "data": {
      "text/plain": [
       "'https://www.tradingview.com/x/IDmA1B3E/'"
      ]
     },
     "execution_count": 40,
     "metadata": {},
     "output_type": "execute_result"
    }
   ],
   "source": [
    "count=0\n",
    "def start():\n",
    "    url=''\n",
    "    global count,sleep_time\n",
    "    try:\n",
    "        URL = 'https://tradingview.com/chart/'      \n",
    "        browser = webdriver.Chrome('./chromedriver') \n",
    "        browser.get(URL)\n",
    "        period(browser,t='month')\n",
    "        search_name(browser,sleep_time)\n",
    "        url=save_image(browser)\n",
    "    except:\n",
    "        print(\"Cannot access \")\n",
    "        print(\"Retrying.....\")\n",
    "        sleep_time=np.random.randint(1,2)\n",
    "        count+=1\n",
    "        if count<3:\n",
    "            start()\n",
    "    browser.close()\n",
    "    return url\n",
    "start()"
   ]
  },
  {
   "cell_type": "code",
   "execution_count": 6,
   "metadata": {},
   "outputs": [],
   "source": []
  },
  {
   "cell_type": "code",
   "execution_count": 36,
   "metadata": {},
   "outputs": [],
   "source": []
  }
 ],
 "metadata": {
  "kernelspec": {
   "display_name": "Python 3",
   "language": "python",
   "name": "python3"
  },
  "language_info": {
   "codemirror_mode": {
    "name": "ipython",
    "version": 3
   },
   "file_extension": ".py",
   "mimetype": "text/x-python",
   "name": "python",
   "nbconvert_exporter": "python",
   "pygments_lexer": "ipython3",
   "version": "3.6.9"
  }
 },
 "nbformat": 4,
 "nbformat_minor": 4
}
