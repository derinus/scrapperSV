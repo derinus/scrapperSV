{
 "cells": [
  {
   "cell_type": "code",
   "execution_count": 171,
   "metadata": {},
   "outputs": [],
   "source": [
    "import requests \n",
    "from bs4 import BeautifulSoup \n",
    "def Instagram_scrape(url):\n",
    "    URL=url\n",
    "    print('Trying with : {}'.format(URL))\n",
    "    text,image='',''\n",
    "    with requests.Session() as session:\n",
    "        r = requests.get(URL) \n",
    "        soup = BeautifulSoup(r.content, 'html.parser')\n",
    "        json_data=soup.find('script',attrs={'type':\"application/ld+json\"})\n",
    "        try:\n",
    "            lst=list(json_data.children)\n",
    "            lst=lst[0].replace('\\n','').strip()\n",
    "            json_=json.loads(lst)\n",
    "#             print(json_)\n",
    "            text=json_['caption']\n",
    "            url=json_['mainEntityofPage']['@id']\n",
    "        except:\n",
    "            text=soup.title.text\n",
    "        lst_str=soup.find('meta',attrs={'property':\"og:image\"})\n",
    "        image=str(lst_str).split('\" property=\"og:image\"')[0].split('<meta content=\"')[1].strip().replace('amp;','')\n",
    "    return text,image,url"
   ]
  },
  {
   "cell_type": "code",
   "execution_count": 175,
   "metadata": {},
   "outputs": [
    {
     "name": "stdout",
     "output_type": "stream",
     "text": [
      "https://www.instagram.com/p/CDOvmangeoL/?utm_source=ig_web_button_share_sheet\n",
      "Trying with : https://www.instagram.com/p/CDOvmangeoL/?utm_source=ig_web_button_share_sheet\n"
     ]
    },
    {
     "data": {
      "text/plain": [
       "('\\nPython Learning on Instagram: “🐍Python Data Types Cheatsheet for all. It covers some basics as well as interview questions for beginners. Save it 📌 . . . .…”\\n',\n",
       " 'https://instagram.fixc7-1.fna.fbcdn.net/v/t51.2885-15/e35/115954659_333555014331622_614337305053499120_n.jpg?_nc_ht=instagram.fixc7-1.fna.fbcdn.net&_nc_cat=110&_nc_ohc=2j78ryRWiPgAX9oJsHF&oh=a05db740d76354a36bef367febb58bae&oe=5F4AFF78',\n",
       " 'https://www.instagram.com/p/CDOvmangeoL/?utm_source=ig_web_button_share_sheet')"
      ]
     },
     "execution_count": 175,
     "metadata": {},
     "output_type": "execute_result"
    }
   ],
   "source": [
    "url=input()\n",
    "Instagram_scrape(url)"
   ]
  },
  {
   "cell_type": "code",
   "execution_count": null,
   "metadata": {},
   "outputs": [],
   "source": []
  },
  {
   "cell_type": "code",
   "execution_count": 47,
   "metadata": {},
   "outputs": [],
   "source": [
    "# getting all data in json form \n",
    "\n",
    "# json_data=soup.find('script',attrs={'type':\"application/ld+json\"})\n",
    "# lst=list(json_data.children)\n",
    "# lst=lst[0].replace('\\n','').strip()\n",
    "# import json\n",
    "# json_=json.loads(lst)\n"
   ]
  },
  {
   "cell_type": "code",
   "execution_count": 88,
   "metadata": {},
   "outputs": [],
   "source": [
    "soup.find('meta',attrs={'property':\"og:image\"})"
   ]
  },
  {
   "cell_type": "code",
   "execution_count": 157,
   "metadata": {},
   "outputs": [],
   "source": [
    "r = requests.get('https://www.instagram.com/p/CDOvmangeoL/?utm_source=ig_web_button_share_sheet') \n",
    "soup = BeautifulSoup(r.content, 'html.parser')\n",
    "json_data=soup.find('script',attrs={\"type\":\"application/ld+json\"})\n"
   ]
  },
  {
   "cell_type": "code",
   "execution_count": null,
   "metadata": {},
   "outputs": [],
   "source": []
  }
 ],
 "metadata": {
  "kernelspec": {
   "display_name": "Python 3",
   "language": "python",
   "name": "python3"
  },
  "language_info": {
   "codemirror_mode": {
    "name": "ipython",
    "version": 3
   },
   "file_extension": ".py",
   "mimetype": "text/x-python",
   "name": "python",
   "nbconvert_exporter": "python",
   "pygments_lexer": "ipython3",
   "version": "3.5.2"
  }
 },
 "nbformat": 4,
 "nbformat_minor": 4
}
