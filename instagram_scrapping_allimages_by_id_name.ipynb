{
 "cells": [
  {
   "cell_type": "code",
   "execution_count": 40,
   "metadata": {},
   "outputs": [],
   "source": [
    "import requests\n",
    "from PIL import Image\n",
    "import urllib\n",
    "from bs4 import BeautifulSoup\n",
    "import numpy as np\n",
    "from selenium import webdriver\n",
    "from selenium.webdriver.common.keys import Keys\n",
    "import time,os\n",
    "import matplotlib.pyplot as plt"
   ]
  },
  {
   "cell_type": "code",
   "execution_count": 50,
   "metadata": {},
   "outputs": [],
   "source": [
    "total_urls=[]\n",
    "def scrape_images(id_name):\n",
    "    query='https://www.instagram.com/'+id_name+'/'\n",
    "    browser=webdriver.Chrome('./chromedriver')\n",
    "    browser.get(query)\n",
    "    global total_urls\n",
    "    print(\"Retrieving ..............\")\n",
    "    n_posts=int(browser.find_element_by_class_name('g47SY ').text)\n",
    "    iteration=0\n",
    "    while iteration<=n_posts//24+1:\n",
    "        page=browser.page_source\n",
    "        soup=BeautifulSoup(page,'lxml')\n",
    "        tags=soup.find_all('img',class_='FFVAD')\n",
    "        track=tags[-1]['src']\n",
    "        if track not in total_urls:\n",
    "            total_urls.extend(tags)\n",
    "        try:\n",
    "            browser.execute_script(\"window.scrollTo(0,document.body.scrollHeight)\")\n",
    "            time.sleep(2)\n",
    "            iteration+=1\n",
    "        except:\n",
    "            exit()\n",
    "    print(\"Started downloading .........\")\n",
    "    total_urls=set(total_urls)\n",
    "    for i,url in enumerate(total_urls):\n",
    "        image=Image.open(urllib.request.urlopen(url['src']))\n",
    "        try:\n",
    "            caption=url['alt']\n",
    "        except:\n",
    "            caption='No caption'\n",
    "        try:\n",
    "            image.save(id_name+'/'+caption[:20]+str(i)+'.jpg')\n",
    "        except:\n",
    "            os.makedirs(id_name)\n",
    "            image.save(id_name+'/'+caption[:20]+'.jpg')\n",
    "#         print(i)\n",
    "    return total_urls\n"
   ]
  },
  {
   "cell_type": "code",
   "execution_count": null,
   "metadata": {},
   "outputs": [],
   "source": [
    "if __name__=='__main__':\n",
    "    try:\n",
    "        urls=scrape_images(input(\"Enter instagram id \"))\n",
    "    except:\n",
    "        pass"
   ]
  },
  {
   "cell_type": "markdown",
   "metadata": {
    "scrolled": false
   },
   "source": [
    "# image uploder on instagram"
   ]
  },
  {
   "cell_type": "code",
   "execution_count": 66,
   "metadata": {},
   "outputs": [
    {
     "name": "stderr",
     "output_type": "stream",
     "text": [
      "2020-09-05 03:38:41,754 - INFO - Instabot version: 0.117.0 Started\n",
      "2020-09-05 03:38:41,754 - INFO - Instabot version: 0.117.0 Started\n",
      "2020-09-05 03:38:41,754 - INFO - Instabot version: 0.117.0 Started\n",
      "2020-09-05 03:38:41,754 - INFO - Instabot version: 0.117.0 Started\n",
      "2020-09-05 03:38:41,754 - INFO - Instabot version: 0.117.0 Started\n",
      "2020-09-05 03:38:41,754 - INFO - Instabot version: 0.117.0 Started\n",
      "2020-09-05 03:38:41,754 - INFO - Instabot version: 0.117.0 Started\n",
      "2020-09-05 03:38:41,754 - INFO - Instabot version: 0.117.0 Started\n",
      "2020-09-05 03:38:41,754 - INFO - Instabot version: 0.117.0 Started\n",
      "2020-09-05 03:38:41,754 - INFO - Instabot version: 0.117.0 Started\n",
      "2020-09-05 03:38:41,754 - INFO - Instabot version: 0.117.0 Started\n",
      "2020-09-05 03:38:41,754 - INFO - Instabot version: 0.117.0 Started\n",
      "2020-09-05 03:38:41,754 - INFO - Instabot version: 0.117.0 Started\n",
      "2020-09-05 03:38:41,754 - INFO - Instabot version: 0.117.0 Started\n",
      "2020-09-05 03:38:41,754 - INFO - Instabot version: 0.117.0 Started\n",
      "2020-09-05 03:38:41,754 - INFO - Instabot version: 0.117.0 Started\n",
      "2020-09-05 03:38:41,754 - INFO - Instabot version: 0.117.0 Started\n",
      "2020-09-05 03:38:41,754 - INFO - Instabot version: 0.117.0 Started\n",
      "2020-09-05 03:38:44,762 - ERROR - Photo does not have a compatible photo aspect ratio.\n",
      "2020-09-05 03:38:44,762 - ERROR - Photo does not have a compatible photo aspect ratio.\n",
      "2020-09-05 03:38:44,762 - ERROR - Photo does not have a compatible photo aspect ratio.\n",
      "2020-09-05 03:38:44,762 - ERROR - Photo does not have a compatible photo aspect ratio.\n",
      "2020-09-05 03:38:44,762 - ERROR - Photo does not have a compatible photo aspect ratio.\n",
      "2020-09-05 03:38:44,762 - ERROR - Photo does not have a compatible photo aspect ratio.\n",
      "2020-09-05 03:38:44,762 - ERROR - Photo does not have a compatible photo aspect ratio.\n",
      "2020-09-05 03:38:44,762 - ERROR - Photo does not have a compatible photo aspect ratio.\n",
      "2020-09-05 03:38:44,762 - ERROR - Photo does not have a compatible photo aspect ratio.\n",
      "2020-09-05 03:38:44,762 - ERROR - Photo does not have a compatible photo aspect ratio.\n",
      "2020-09-05 03:38:44,762 - ERROR - Photo does not have a compatible photo aspect ratio.\n",
      "2020-09-05 03:38:44,762 - ERROR - Photo does not have a compatible photo aspect ratio.\n",
      "2020-09-05 03:38:44,762 - ERROR - Photo does not have a compatible photo aspect ratio.\n",
      "2020-09-05 03:38:44,762 - ERROR - Photo does not have a compatible photo aspect ratio.\n",
      "2020-09-05 03:38:44,762 - ERROR - Photo does not have a compatible photo aspect ratio.\n",
      "2020-09-05 03:38:44,762 - ERROR - Photo does not have a compatible photo aspect ratio.\n",
      "2020-09-05 03:38:44,762 - ERROR - Photo does not have a compatible photo aspect ratio.\n",
      "2020-09-05 03:38:44,762 - ERROR - Photo does not have a compatible photo aspect ratio.\n",
      "2020-09-05 03:38:44,801 - INFO - Photo 'instagram_images/1.jpg' is not uploaded.\n",
      "2020-09-05 03:38:44,801 - INFO - Photo 'instagram_images/1.jpg' is not uploaded.\n",
      "2020-09-05 03:38:44,801 - INFO - Photo 'instagram_images/1.jpg' is not uploaded.\n",
      "2020-09-05 03:38:44,801 - INFO - Photo 'instagram_images/1.jpg' is not uploaded.\n",
      "2020-09-05 03:38:44,801 - INFO - Photo 'instagram_images/1.jpg' is not uploaded.\n",
      "2020-09-05 03:38:44,801 - INFO - Photo 'instagram_images/1.jpg' is not uploaded.\n",
      "2020-09-05 03:38:44,801 - INFO - Photo 'instagram_images/1.jpg' is not uploaded.\n",
      "2020-09-05 03:38:44,801 - INFO - Photo 'instagram_images/1.jpg' is not uploaded.\n",
      "2020-09-05 03:38:44,801 - INFO - Photo 'instagram_images/1.jpg' is not uploaded.\n",
      "2020-09-05 03:38:44,801 - INFO - Photo 'instagram_images/1.jpg' is not uploaded.\n",
      "2020-09-05 03:38:44,801 - INFO - Photo 'instagram_images/1.jpg' is not uploaded.\n",
      "2020-09-05 03:38:44,801 - INFO - Photo 'instagram_images/1.jpg' is not uploaded.\n",
      "2020-09-05 03:38:44,801 - INFO - Photo 'instagram_images/1.jpg' is not uploaded.\n",
      "2020-09-05 03:38:44,801 - INFO - Photo 'instagram_images/1.jpg' is not uploaded.\n",
      "2020-09-05 03:38:44,801 - INFO - Photo 'instagram_images/1.jpg' is not uploaded.\n",
      "2020-09-05 03:38:44,801 - INFO - Photo 'instagram_images/1.jpg' is not uploaded.\n",
      "2020-09-05 03:38:44,801 - INFO - Photo 'instagram_images/1.jpg' is not uploaded.\n",
      "2020-09-05 03:38:44,801 - INFO - Photo 'instagram_images/1.jpg' is not uploaded.\n"
     ]
    },
    {
     "name": "stdout",
     "output_type": "stream",
     "text": [
      "FOUND: w:198 h:255 r:0.7764705882352941\n"
     ]
    },
    {
     "name": "stderr",
     "output_type": "stream",
     "text": [
      "2020-09-05 03:38:46,251 - ERROR - Photo does not have a compatible photo aspect ratio.\n",
      "2020-09-05 03:38:46,251 - ERROR - Photo does not have a compatible photo aspect ratio.\n",
      "2020-09-05 03:38:46,251 - ERROR - Photo does not have a compatible photo aspect ratio.\n",
      "2020-09-05 03:38:46,251 - ERROR - Photo does not have a compatible photo aspect ratio.\n",
      "2020-09-05 03:38:46,251 - ERROR - Photo does not have a compatible photo aspect ratio.\n",
      "2020-09-05 03:38:46,251 - ERROR - Photo does not have a compatible photo aspect ratio.\n",
      "2020-09-05 03:38:46,251 - ERROR - Photo does not have a compatible photo aspect ratio.\n",
      "2020-09-05 03:38:46,251 - ERROR - Photo does not have a compatible photo aspect ratio.\n",
      "2020-09-05 03:38:46,251 - ERROR - Photo does not have a compatible photo aspect ratio.\n",
      "2020-09-05 03:38:46,251 - ERROR - Photo does not have a compatible photo aspect ratio.\n",
      "2020-09-05 03:38:46,251 - ERROR - Photo does not have a compatible photo aspect ratio.\n",
      "2020-09-05 03:38:46,251 - ERROR - Photo does not have a compatible photo aspect ratio.\n",
      "2020-09-05 03:38:46,251 - ERROR - Photo does not have a compatible photo aspect ratio.\n",
      "2020-09-05 03:38:46,251 - ERROR - Photo does not have a compatible photo aspect ratio.\n",
      "2020-09-05 03:38:46,251 - ERROR - Photo does not have a compatible photo aspect ratio.\n",
      "2020-09-05 03:38:46,251 - ERROR - Photo does not have a compatible photo aspect ratio.\n",
      "2020-09-05 03:38:46,251 - ERROR - Photo does not have a compatible photo aspect ratio.\n",
      "2020-09-05 03:38:46,251 - ERROR - Photo does not have a compatible photo aspect ratio.\n",
      "2020-09-05 03:38:46,290 - INFO - Photo 'instagram_images/10.jpg' is not uploaded.\n",
      "2020-09-05 03:38:46,290 - INFO - Photo 'instagram_images/10.jpg' is not uploaded.\n",
      "2020-09-05 03:38:46,290 - INFO - Photo 'instagram_images/10.jpg' is not uploaded.\n",
      "2020-09-05 03:38:46,290 - INFO - Photo 'instagram_images/10.jpg' is not uploaded.\n",
      "2020-09-05 03:38:46,290 - INFO - Photo 'instagram_images/10.jpg' is not uploaded.\n",
      "2020-09-05 03:38:46,290 - INFO - Photo 'instagram_images/10.jpg' is not uploaded.\n",
      "2020-09-05 03:38:46,290 - INFO - Photo 'instagram_images/10.jpg' is not uploaded.\n",
      "2020-09-05 03:38:46,290 - INFO - Photo 'instagram_images/10.jpg' is not uploaded.\n",
      "2020-09-05 03:38:46,290 - INFO - Photo 'instagram_images/10.jpg' is not uploaded.\n",
      "2020-09-05 03:38:46,290 - INFO - Photo 'instagram_images/10.jpg' is not uploaded.\n",
      "2020-09-05 03:38:46,290 - INFO - Photo 'instagram_images/10.jpg' is not uploaded.\n",
      "2020-09-05 03:38:46,290 - INFO - Photo 'instagram_images/10.jpg' is not uploaded.\n",
      "2020-09-05 03:38:46,290 - INFO - Photo 'instagram_images/10.jpg' is not uploaded.\n",
      "2020-09-05 03:38:46,290 - INFO - Photo 'instagram_images/10.jpg' is not uploaded.\n",
      "2020-09-05 03:38:46,290 - INFO - Photo 'instagram_images/10.jpg' is not uploaded.\n",
      "2020-09-05 03:38:46,290 - INFO - Photo 'instagram_images/10.jpg' is not uploaded.\n",
      "2020-09-05 03:38:46,290 - INFO - Photo 'instagram_images/10.jpg' is not uploaded.\n",
      "2020-09-05 03:38:46,290 - INFO - Photo 'instagram_images/10.jpg' is not uploaded.\n"
     ]
    },
    {
     "name": "stdout",
     "output_type": "stream",
     "text": [
      "FOUND: w:181 h:279 r:0.6487455197132617\n"
     ]
    }
   ],
   "source": [
    "from instabot import Bot \n",
    "\n",
    "bot = Bot() \n",
    "try:\n",
    "    bot.login(username = \"+919530450649\", password = \"Shivam@271882Natural_beauty\")\n",
    "except:\n",
    "    pass\n",
    "for img in os.listdir('instagram_images'):\n",
    "    image='instagram_images'+'/'+img\n",
    "    bot.upload_photo(image, caption =\"How cute she is\")"
   ]
  },
  {
   "cell_type": "code",
   "execution_count": null,
   "metadata": {},
   "outputs": [],
   "source": []
  },
  {
   "cell_type": "code",
   "execution_count": null,
   "metadata": {},
   "outputs": [],
   "source": []
  },
  {
   "cell_type": "code",
   "execution_count": null,
   "metadata": {},
   "outputs": [],
   "source": []
  },
  {
   "cell_type": "code",
   "execution_count": null,
   "metadata": {},
   "outputs": [],
   "source": []
  },
  {
   "cell_type": "code",
   "execution_count": null,
   "metadata": {},
   "outputs": [],
   "source": []
  },
  {
   "cell_type": "code",
   "execution_count": null,
   "metadata": {},
   "outputs": [],
   "source": []
  }
 ],
 "metadata": {
  "kernelspec": {
   "display_name": "Python 3",
   "language": "python",
   "name": "python3"
  },
  "language_info": {
   "codemirror_mode": {
    "name": "ipython",
    "version": 3
   },
   "file_extension": ".py",
   "mimetype": "text/x-python",
   "name": "python",
   "nbconvert_exporter": "python",
   "pygments_lexer": "ipython3",
   "version": "3.6.9"
  }
 },
 "nbformat": 4,
 "nbformat_minor": 4
}
