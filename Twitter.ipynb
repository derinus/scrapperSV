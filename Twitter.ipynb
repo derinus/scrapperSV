{
 "cells": [
  {
   "cell_type": "code",
   "execution_count": 102,
   "metadata": {},
   "outputs": [
    {
     "name": "stdout",
     "output_type": "stream",
     "text": [
      "https://twitter.com/Bhupendra_ldc/status/1288857125364457473?s=20\n",
      "Trying with : https://mobile.twitter.com/Bhupendra_ldc/status/1288857125364457473?s=20\n",
      "  पूरा खेल बीजेपी का है और बीजेपी को जनता माफ नहीं करेगी...जनता सब देख रही है और बीजेपी को चाहिए, अमित शाह जी को चाहिए कि सरकार गिराने के इरादे छोड़ें, देश के अंदर उससे लोकतंत्र कमजोर होगा, जनता के जीवन को बचाना है, उसके लिए सबको लगना चाहिए। pic.twitter.com/rKH0zvQHSv\n",
      "\n",
      "\n",
      "https://twitter.com/ashokgehlot51/status/1288856299677966338/video/1\n"
     ]
    }
   ],
   "source": [
    "import requests \n",
    "from bs4 import BeautifulSoup \n",
    "    \n",
    "def Twitter_scrape(url):\n",
    "    URL=url.replace('twitter.com','mobile.twitter.com')\n",
    "    print('Trying with : {}'.format(URL))\n",
    "    text,image,url='','',''\n",
    "    with requests.Session() as session:\n",
    "        try:\n",
    "            r = requests.get(URL) \n",
    "            soup = BeautifulSoup(r.content, 'html.parser')\n",
    "            text=soup.find('div',attrs={'class':\"dir-ltr\"})\n",
    "            text_val=text.text\n",
    "            url= str(text).split('data-url=\"')[1].split('\"')[0]\n",
    "            image=soup.find('div',attrs={'class':\"media\"}).find('img')\n",
    "            image=str(image).split('src=\"')[1].split(':small')[0]\n",
    "        except :\n",
    "            pass\n",
    "    return text_val,image,url\n",
    "url=input()\n",
    "text,image,url=Twitter_scrape(url)\n",
    "print(text)\n",
    "print(image)\n",
    "print(url)"
   ]
  }
 ],
 "metadata": {
  "kernelspec": {
   "display_name": "Python 3",
   "language": "python",
   "name": "python3"
  },
  "language_info": {
   "codemirror_mode": {
    "name": "ipython",
    "version": 3
   },
   "file_extension": ".py",
   "mimetype": "text/x-python",
   "name": "python",
   "nbconvert_exporter": "python",
   "pygments_lexer": "ipython3",
   "version": "3.5.2"
  }
 },
 "nbformat": 4,
 "nbformat_minor": 4
}
