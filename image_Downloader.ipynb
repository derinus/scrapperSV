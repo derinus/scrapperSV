{
 "cells": [
  {
   "cell_type": "code",
   "execution_count": 12,
   "metadata": {},
   "outputs": [],
   "source": [
    "from PIL import Image\n",
    "import urllib\n",
    "from bs4 import BeautifulSoup\n",
    "import numpy as np\n",
    "from selenium import webdriver\n",
    "from selenium.webdriver.common.keys import Keys\n",
    "import time,os"
   ]
  },
  {
   "cell_type": "code",
   "execution_count": 1,
   "metadata": {},
   "outputs": [],
   "source": [
    "total_urls=[]\n",
    "titles=[]\n",
    "# Saving all exteracted images \n",
    "\n",
    "def save_images(urls,titles):\n",
    "    global query\n",
    "    image=[]\n",
    "    if not os.path.exists(query):\n",
    "        os.makedirs(query)\n",
    "    n=int(input(\" Enter no of titles to download out of \"+str(len(urls))+\"  : \"))\n",
    "    for title,urllist in zip(titles[:n],urls[:n]):\n",
    "        if title !='Home':\n",
    "            title=str(title['aria-label'])\n",
    "        print('Downloading  : '+title+'....')\n",
    "        for i,url in enumerate(urllist):\n",
    "            if not os.path.exists(query+'/'+title):\n",
    "                os.makedirs(query+'/'+title)\n",
    "            try:\n",
    "                image=Image.open(urllib.request.urlopen(url['src']))\n",
    "            except:\n",
    "                try:\n",
    "                    image=Image.open(urllib.request.urlopen(url['data-src']))\n",
    "                except:\n",
    "                    pass\n",
    "            if len(np.array(image))>0:\n",
    "                try:\n",
    "                    image.save(query+'/'+title+'/'+url['alt']+str(i)+'.jpg')\n",
    "                except:\n",
    "                    pass\n",
    "        print(\"Saved image : \"+str(i))\n",
    "        \n",
    "                \n",
    "# scrolling and going upto last image then scrapping all urls of images \n",
    "def images(browser):\n",
    "    found=1\n",
    "    while(found):\n",
    "        try:\n",
    "            count=0\n",
    "            while(count<6):\n",
    "                try:\n",
    "                    browser.execute_script(\"window.scrollTo(0,document.body.scrollHeight)\")\n",
    "                    time.sleep(5)\n",
    "                except:\n",
    "                    pass\n",
    "                count+=1\n",
    "            time.sleep(3)\n",
    "            browser.find_element_by_class_name('mye4qd').click()\n",
    "            time.sleep(5)\n",
    "        except:\n",
    "            found=0\n",
    "    soup=BeautifulSoup(browser.page_source,'lxml')\n",
    "    img_urls=[img for img in soup.find_all('img',class_='rg_i Q4LuWd')]\n",
    "    return img_urls\n",
    "def clean_garbage_files():\n",
    "    global query\n",
    "    root=query\n",
    "    for folder in os.listdir(root):\n",
    "        for image in os.listdir(root+'/'+folder):\n",
    "            if os.stat(root+'/'+folder+'/'+image).st_size <=1:\n",
    "                try:\n",
    "                    os.remove(root+'/'+folder+'/'+image)\n",
    "                except:\n",
    "                    pass\n",
    "                \n",
    "def find(query='flower'):\n",
    "    global titles\n",
    "    global total_urls\n",
    "    browser=webdriver.Chrome('./chromedriver')\n",
    "    browser.get('https://www.google.com/')\n",
    "#     browser.fullscreen_window()\n",
    "    search=browser.find_element_by_xpath('//*[@id=\"tsf\"]/div[2]/div[1]/div[1]/div/div[2]/input')\n",
    "    search.send_keys(query+' image')\n",
    "    time.sleep(1)\n",
    "    search.send_keys(Keys.ENTER)\n",
    "    time.sleep(1)\n",
    "    browser.find_element_by_class_name('Q2MMlc').click()\n",
    "    time.sleep(1)\n",
    "#   Accessing image home page base\n",
    "    titles.append('Home')\n",
    "    total_urls.append(list(set(images(browser))))\n",
    "    soup=BeautifulSoup(browser.page_source,'lxml')\n",
    "    titles.extend([link for link in soup.find_all('a',class_='F9PbJd IJRrpb xKddTc')])\n",
    "    browser.close()\n",
    "    # Accessing images topic based \n",
    "    for url in titles[1:]:\n",
    "        browser=webdriver.Chrome('./chromedriver')\n",
    "        browser.get('https://www.google.com'+url['href'])\n",
    "#         browser.fullscreen_window()\n",
    "        time.sleep(1)\n",
    "        total_urls.append(list(set(images(browser))))\n",
    "        browser.close()\n",
    "    print(\"Categories found : \"+str(len(total_urls)))\n",
    "    browser.close()\n"
   ]
  },
  {
   "cell_type": "code",
   "execution_count": 15,
   "metadata": {},
   "outputs": [
    {
     "name": "stdout",
     "output_type": "stream",
     "text": [
      "descending triangle\n"
     ]
    }
   ],
   "source": [
    "if __name__=='__main__':\n",
    "    query=input()\n",
    "    try:\n",
    "        find(query)\n",
    "    except:\n",
    "        pass\n",
    "    save_images(total_urls,titles)\n",
    "    clean_garbage_files()"
   ]
  },
  {
   "cell_type": "code",
   "execution_count": 16,
   "metadata": {
    "scrolled": true
   },
   "outputs": [],
   "source": []
  },
  {
   "cell_type": "code",
   "execution_count": null,
   "metadata": {},
   "outputs": [],
   "source": []
  },
  {
   "cell_type": "code",
   "execution_count": null,
   "metadata": {},
   "outputs": [],
   "source": []
  },
  {
   "cell_type": "code",
   "execution_count": null,
   "metadata": {},
   "outputs": [],
   "source": []
  },
  {
   "cell_type": "code",
   "execution_count": null,
   "metadata": {},
   "outputs": [],
   "source": []
  },
  {
   "cell_type": "code",
   "execution_count": null,
   "metadata": {},
   "outputs": [],
   "source": []
  },
  {
   "cell_type": "code",
   "execution_count": 32,
   "metadata": {},
   "outputs": [],
   "source": []
  },
  {
   "cell_type": "code",
   "execution_count": null,
   "metadata": {},
   "outputs": [],
   "source": []
  },
  {
   "cell_type": "code",
   "execution_count": null,
   "metadata": {},
   "outputs": [],
   "source": []
  },
  {
   "cell_type": "code",
   "execution_count": null,
   "metadata": {},
   "outputs": [],
   "source": []
  },
  {
   "cell_type": "code",
   "execution_count": 3,
   "metadata": {},
   "outputs": [],
   "source": [
    "# query='flower'\n",
    "# browser=webdriver.Chrome('./chromedriver')\n",
    "# browser.get('https://www.google.com/')\n",
    "# search=browser.find_element_by_xpath('//*[@id=\"tsf\"]/div[2]/div[1]/div[1]/div/div[2]/input')\n",
    "# search.send_keys(query+' image')\n",
    "# time.sleep(1)\n",
    "# search.send_keys(Keys.ENTER)\n",
    "# time.sleep(3)\n",
    "# browser.find_element_by_class_name('Q2MMlc').click()\n",
    "# time.sleep(3)\n",
    "# soup=BeautifulSoup(browser.page_source,'lxml')\n",
    "# titles=[link['href'] for link in soup.find_all('a',class_='F9PbJd IJRrpb xKddTc')]\n",
    "# total_urls=[]\n",
    "# for url in titles:\n",
    "#     browser=webdriver.Chrome('./chromedriver')\n",
    "#     browser.get('https://www.google.com'+url)\n",
    "#     time.sleep(3)\n",
    "#     total_urls.extend(images(browser))\n",
    "#     browser.close()"
   ]
  },
  {
   "cell_type": "code",
   "execution_count": null,
   "metadata": {},
   "outputs": [],
   "source": []
  }
 ],
 "metadata": {
  "kernelspec": {
   "display_name": "Python 3",
   "language": "python",
   "name": "python3"
  },
  "language_info": {
   "codemirror_mode": {
    "name": "ipython",
    "version": 3
   },
   "file_extension": ".py",
   "mimetype": "text/x-python",
   "name": "python",
   "nbconvert_exporter": "python",
   "pygments_lexer": "ipython3",
   "version": "3.6.9"
  }
 },
 "nbformat": 4,
 "nbformat_minor": 4
}
