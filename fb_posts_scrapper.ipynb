{
 "cells": [
  {
   "cell_type": "code",
   "execution_count": 4,
   "metadata": {},
   "outputs": [],
   "source": [
    "import requests \n",
    "from bs4 import BeautifulSoup \n",
    "import pandas as pd\n",
    "import re"
   ]
  },
  {
   "cell_type": "code",
   "execution_count": 37,
   "metadata": {},
   "outputs": [],
   "source": [
    "def fb_scrape(URL):\n",
    "    r = requests.get(URL) \n",
    "    soup = BeautifulSoup(r.content, 'html.parser')\n",
    "    meta=soup.find_all('meta')\n",
    "    if len(meta)<8:\n",
    "        raise Exception('Something Went Wrong !!')\n",
    "    else:\n",
    "        for i,j in enumerate(meta):\n",
    "            if i==6 and str(j).find(\"og:description\"):\n",
    "                desc=str(j).split('\"')[1].replace('\\n','').replace('  ',' ')\n",
    "            elif i==7 and str(j).find(\"og:image\"):\n",
    "                image=str(j).split('\"')[1]\n",
    "                image=str(image).replace('amp;','')\n",
    "            elif i==8 and str(j).find(\"og:url\"):\n",
    "                url=str(j).split('\"')[1]\n",
    "                url=str(url).replace('amp;','')\n",
    "    return desc,image,url,meta"
   ]
  },
  {
   "cell_type": "code",
   "execution_count": 38,
   "metadata": {},
   "outputs": [
    {
     "name": "stdout",
     "output_type": "stream",
     "text": [
      "http://www.facebook.com/story.php?story_fbid=3224814467564560&id=1389683114411047&scmts=scwspsdd&extid=mDJbnuN6JNvWLD6J\n"
     ]
    }
   ],
   "source": [
    "url=input()#'http://www.facebook.com/story.php?story_fbid=3224814467564560&id=1389683114411047&scmts=scwspsdd&extid=mDJbnuN6JNvWLD6J'\n",
    "desc,image,url,meta=fb_scrape(url)"
   ]
  },
  {
   "cell_type": "code",
   "execution_count": 39,
   "metadata": {},
   "outputs": [
    {
     "name": "stdout",
     "output_type": "stream",
     "text": [
      "सबको हसाने वाले सुनील शेट्टी और परेश रावल को कितने लोग पसंद करते है😍😍\n",
      "https://scontent.fixc7-1.fna.fbcdn.net/v/t1.0-9/108150941_3224814394231234_3009392223403648994_n.jpg?_nc_cat=1&_nc_sid=110474&_nc_ohc=QiTcL6jKfYQAX-4fe48&_nc_ht=scontent.fixc7-1.fna&oh=b0359fb39a27bc2c5f4725c604db9005&oe=5F3ABCA3\n",
      "https://www.facebook.com/bollywoodkiduniyaonline/posts/3224814467564560\n"
     ]
    }
   ],
   "source": [
    "print(desc)\n",
    "print(image)\n",
    "print(url)"
   ]
  },
  {
   "cell_type": "code",
   "execution_count": 47,
   "metadata": {},
   "outputs": [],
   "source": [
    "URL='https://twitter.com/GoriwaleSubhash/status/1284867162545352706?s=20'\n",
    "r = requests.get(URL) \n",
    "soup = BeautifulSoup(r.content, 'html.parser')\n",
    "    "
   ]
  },
  {
   "cell_type": "code",
   "execution_count": 49,
   "metadata": {
    "scrolled": false
   },
   "outputs": [
    {
     "data": {
      "text/plain": [
       "[<meta charset=\"utf-8\"/>,\n",
       " <meta content=\"width=device-width,initial-scale=1,maximum-scale=1,user-scalable=0,viewport-fit=cover\" name=\"viewport\"/>,\n",
       " <meta content=\"2231777543\" property=\"fb:app_id\"/>,\n",
       " <meta content=\"Twitter\" property=\"og:site_name\"/>,\n",
       " <meta content=\"V0yIS0Ec_o3Ii9KThrCoMCkwTYMMJ_JYx_RSaGhFYvw\" name=\"google-site-verification\"/>,\n",
       " <meta content=\"yes\" name=\"mobile-web-app-capable\"/>,\n",
       " <meta content=\"Twitter\" name=\"apple-mobile-web-app-title\"/>,\n",
       " <meta content=\"white\" name=\"apple-mobile-web-app-status-bar-style\"/>,\n",
       " <meta content=\"#ffffff\" name=\"theme-color\"/>,\n",
       " <meta content=\"Ap6SMBNB0lQoXpXl4I9vyTJqJ7Y0X9tPd6Q6rN697iHdubQQxBcWHy21N3N7uEz7Ba5UKMbN+eLvDczBSbi27AsAAABfeyJvcmlnaW4iOiJodHRwczovL3R3aXR0ZXIuY29tOjQ0MyIsImZlYXR1cmUiOiJCYWRnaW5nIiwiZXhwaXJ5IjoxNTY0NTgyNzY2LCJpc1N1YmRvbWFpbiI6dHJ1ZX0=\" http-equiv=\"origin-trial\"/>,\n",
       " <meta content=\"Apir4chqTX+4eFxKD+ErQlKRB/VtZ/dvnLfd9Y9Nenl5r1xJcf81alryTHYQiuUlz9Q49MqGXqyaiSmqWzHUqQwAAABneyJvcmlnaW4iOiJodHRwczovL3R3aXR0ZXIuY29tOjQ0MyIsImZlYXR1cmUiOiJDb250YWN0c01hbmFnZXIiLCJleHBpcnkiOjE1NzUwMzUyODMsImlzU3ViZG9tYWluIjp0cnVlfQ==\" http-equiv=\"origin-trial\"/>,\n",
       " <meta content=\"AleGS26SZL7UA8Fe1DbvXzoay74bPTvrfKKGimIu1RI8vA+RtXOSVlizUkz2zU/fQoFoOTgCiCciP6pM5teaeQgAAABjeyJvcmlnaW4iOiJodHRwczovL3R3aXR0ZXIuY29tOjQ0MyIsImZlYXR1cmUiOiJTbXNSZWNlaXZlciIsImV4cGlyeSI6MTU3OTAyMDkyMSwiaXNTdWJkb21haW4iOnRydWV9\" http-equiv=\"origin-trial\"/>]"
      ]
     },
     "execution_count": 49,
     "metadata": {},
     "output_type": "execute_result"
    }
   ],
   "source": [
    "soup.find_all('meta')"
   ]
  },
  {
   "cell_type": "code",
   "execution_count": 60,
   "metadata": {},
   "outputs": [
    {
     "name": "stderr",
     "output_type": "stream",
     "text": [
      "Error occurred during loading data. Trying to use cache server https://fake-useragent.herokuapp.com/browsers/0.1.11\n",
      "Traceback (most recent call last):\n",
      "  File \"/usr/lib/python3.5/urllib/request.py\", line 1261, in do_open\n",
      "    h.request(req.get_method(), req.selector, req.data, headers)\n",
      "  File \"/usr/lib/python3.5/http/client.py\", line 1134, in request\n",
      "    self._send_request(method, url, body, headers)\n",
      "  File \"/usr/lib/python3.5/http/client.py\", line 1179, in _send_request\n",
      "    self.endheaders(body)\n",
      "  File \"/usr/lib/python3.5/http/client.py\", line 1130, in endheaders\n",
      "    self._send_output(message_body)\n",
      "  File \"/usr/lib/python3.5/http/client.py\", line 946, in _send_output\n",
      "    self.send(msg)\n",
      "  File \"/usr/lib/python3.5/http/client.py\", line 889, in send\n",
      "    self.connect()\n",
      "  File \"/usr/lib/python3.5/http/client.py\", line 861, in connect\n",
      "    (self.host,self.port), self.timeout, self.source_address)\n",
      "  File \"/usr/lib/python3.5/socket.py\", line 711, in create_connection\n",
      "    raise err\n",
      "  File \"/usr/lib/python3.5/socket.py\", line 702, in create_connection\n",
      "    sock.connect(sa)\n",
      "socket.timeout: timed out\n",
      "\n",
      "During handling of the above exception, another exception occurred:\n",
      "\n",
      "Traceback (most recent call last):\n",
      "  File \"/home/shiva/python_projects_directory/python_projects_env/lib/python3.5/site-packages/fake_useragent/utils.py\", line 67, in get\n",
      "    context=context,\n",
      "  File \"/usr/lib/python3.5/urllib/request.py\", line 163, in urlopen\n",
      "    return opener.open(url, data, timeout)\n",
      "  File \"/usr/lib/python3.5/urllib/request.py\", line 466, in open\n",
      "    response = self._open(req, data)\n",
      "  File \"/usr/lib/python3.5/urllib/request.py\", line 484, in _open\n",
      "    '_open', req)\n",
      "  File \"/usr/lib/python3.5/urllib/request.py\", line 444, in _call_chain\n",
      "    result = func(*args)\n",
      "  File \"/usr/lib/python3.5/urllib/request.py\", line 1289, in http_open\n",
      "    return self.do_open(http.client.HTTPConnection, req)\n",
      "  File \"/usr/lib/python3.5/urllib/request.py\", line 1263, in do_open\n",
      "    raise URLError(err)\n",
      "urllib.error.URLError: <urlopen error timed out>\n",
      "\n",
      "During handling of the above exception, another exception occurred:\n",
      "\n",
      "Traceback (most recent call last):\n",
      "  File \"/home/shiva/python_projects_directory/python_projects_env/lib/python3.5/site-packages/fake_useragent/utils.py\", line 166, in load\n",
      "    verify_ssl=verify_ssl,\n",
      "  File \"/home/shiva/python_projects_directory/python_projects_env/lib/python3.5/site-packages/fake_useragent/utils.py\", line 122, in get_browser_versions\n",
      "    verify_ssl=verify_ssl,\n",
      "  File \"/home/shiva/python_projects_directory/python_projects_env/lib/python3.5/site-packages/fake_useragent/utils.py\", line 84, in get\n",
      "    raise FakeUserAgentError('Maximum amount of retries reached')\n",
      "fake_useragent.errors.FakeUserAgentError: Maximum amount of retries reached\n"
     ]
    },
    {
     "ename": "SyntaxError",
     "evalue": "invalid syntax (tweets.py, line 13)",
     "output_type": "error",
     "traceback": [
      "Traceback \u001b[0;36m(most recent call last)\u001b[0m:\n",
      "  File \u001b[1;32m\"/home/shiva/python_projects_directory/python_projects_env/lib/python3.5/site-packages/IPython/core/interactiveshell.py\"\u001b[0m, line \u001b[1;32m3326\u001b[0m, in \u001b[1;35mrun_code\u001b[0m\n    exec(code_obj, self.user_global_ns, self.user_ns)\n",
      "  File \u001b[1;32m\"<ipython-input-60-980e09d36697>\"\u001b[0m, line \u001b[1;32m1\u001b[0m, in \u001b[1;35m<module>\u001b[0m\n    from twitter_scraper import get_tweets\n",
      "\u001b[0;36m  File \u001b[0;32m\"/home/shiva/python_projects_directory/python_projects_env/lib/python3.5/site-packages/twitter_scraper/__init__.py\"\u001b[0;36m, line \u001b[0;32m2\u001b[0;36m, in \u001b[0;35m<module>\u001b[0;36m\u001b[0m\n\u001b[0;31m    from .modules.tweets import get_tweets\u001b[0m\n",
      "\u001b[0;36m  File \u001b[0;32m\"/home/shiva/python_projects_directory/python_projects_env/lib/python3.5/site-packages/twitter_scraper/modules/tweets.py\"\u001b[0;36m, line \u001b[0;32m13\u001b[0m\n\u001b[0;31m    f\"include_available_features=1&include_entities=1&include_new_items_bar=true\"\u001b[0m\n\u001b[0m                                                                                ^\u001b[0m\n\u001b[0;31mSyntaxError\u001b[0m\u001b[0;31m:\u001b[0m invalid syntax\n"
     ]
    }
   ],
   "source": [
    "from twitter_scraper import get_tweets\n",
    "try:\n",
    "    from pyppeteer import launch\n",
    "except ImportError:\n",
    "    from typing_extensions import Coroutine\n",
    "    typing.Coroutine = Coroutine\n",
    "    from pyppeteer import launch\n",
    "for tweet in get_tweets('twitter', pages=1):\n",
    "    print(tweet['text'])"
   ]
  },
  {
   "cell_type": "code",
   "execution_count": 59,
   "metadata": {},
   "outputs": [],
   "source": []
  },
  {
   "cell_type": "code",
   "execution_count": null,
   "metadata": {},
   "outputs": [],
   "source": []
  },
  {
   "cell_type": "code",
   "execution_count": null,
   "metadata": {},
   "outputs": [],
   "source": []
  },
  {
   "cell_type": "code",
   "execution_count": null,
   "metadata": {},
   "outputs": [],
   "source": []
  },
  {
   "cell_type": "code",
   "execution_count": null,
   "metadata": {},
   "outputs": [],
   "source": []
  },
  {
   "cell_type": "code",
   "execution_count": null,
   "metadata": {},
   "outputs": [],
   "source": []
  },
  {
   "cell_type": "code",
   "execution_count": null,
   "metadata": {},
   "outputs": [],
   "source": []
  },
  {
   "cell_type": "code",
   "execution_count": null,
   "metadata": {},
   "outputs": [],
   "source": []
  },
  {
   "cell_type": "code",
   "execution_count": null,
   "metadata": {},
   "outputs": [],
   "source": []
  },
  {
   "cell_type": "code",
   "execution_count": null,
   "metadata": {},
   "outputs": [],
   "source": [
    "# from selenium import webdriver \n",
    "# from time import sleep \n",
    "# from webdriver_manager.chrome import ChromeDriverManager \n",
    "# from selenium.webdriver.chrome.options import Options \n",
    "\n",
    "# usr=input('Enter Email Id:') \n",
    "# pwd=input('Enter Password:') \n",
    "\n",
    "# driver = webdriver.Chrome(ChromeDriverManager().install()) \n",
    "# driver.get('https://www.facebook.com/') \n",
    "# print (\"Opened facebook\") \n",
    "# sleep(1) \n",
    "\n",
    "# username_box = driver.find_element_by_id('email') \n",
    "# username_box.send_keys(usr) \n",
    "# print (\"Email Id entered\") \n",
    "# sleep(1) \n",
    "\n",
    "# password_box = driver.find_element_by_id('pass') \n",
    "# password_box.send_keys(pwd) \n",
    "# print (\"Password entered\") \n",
    "\n",
    "# login_box = driver.find_element_by_id('loginbutton') \n",
    "# login_box.click() \n",
    "\n",
    "# print (\"Done\") \n",
    "# input('Press anything to quit') \n",
    "# driver.quit() \n",
    "# print(\"Finished\") \n"
   ]
  }
 ],
 "metadata": {
  "kernelspec": {
   "display_name": "Python 3",
   "language": "python",
   "name": "python3"
  },
  "language_info": {
   "codemirror_mode": {
    "name": "ipython",
    "version": 3
   },
   "file_extension": ".py",
   "mimetype": "text/x-python",
   "name": "python",
   "nbconvert_exporter": "python",
   "pygments_lexer": "ipython3",
   "version": "3.6.9"
  }
 },
 "nbformat": 4,
 "nbformat_minor": 4
}
